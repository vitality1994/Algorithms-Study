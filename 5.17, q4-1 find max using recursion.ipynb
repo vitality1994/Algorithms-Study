{
 "cells": [
  {
   "cell_type": "code",
   "execution_count": 36,
   "metadata": {},
   "outputs": [],
   "source": [
    "# find maximum number using recursion.\n",
    "\n",
    "# For recursion, 'end' condition is required.\n",
    "\n",
    "def find_max(a, n):\n",
    "    if n == 1:\n",
    "        return a[0] # one element? just return that.\n",
    "    \n",
    "    max_n_1 = find_max(a, n-1) \n",
    "    # maximum element among the first ~ n-1 th\n",
    "    # In the most inside loop, max_n_1 = a[0],\n",
    "    # and max_n_1 = a[0] will be compared with\n",
    "    # a[1] when n == 2;\n",
    "    if max_n_1 > a[n-1]:\n",
    "        return max_n_1\n",
    "    else:\n",
    "        return a[n-1]"
   ]
  },
  {
   "cell_type": "code",
   "execution_count": 37,
   "metadata": {},
   "outputs": [
    {
     "data": {
      "text/plain": [
       "23"
      ]
     },
     "execution_count": 37,
     "metadata": {},
     "output_type": "execute_result"
    }
   ],
   "source": [
    "s = [1, 3, 5, 3, 1, 23, 12, 3, -1]\n",
    "\n",
    "find_max(s, len(s))"
   ]
  }
 ],
 "metadata": {
  "jupytext": {
   "formats": "ipynb,auto:light"
  },
  "kernelspec": {
   "display_name": "Python 3",
   "language": "python",
   "name": "python3"
  },
  "language_info": {
   "codemirror_mode": {
    "name": "ipython",
    "version": 3
   },
   "file_extension": ".py",
   "mimetype": "text/x-python",
   "name": "python",
   "nbconvert_exporter": "python",
   "pygments_lexer": "ipython3",
   "version": "3.7.4"
  }
 },
 "nbformat": 4,
 "nbformat_minor": 2
}
