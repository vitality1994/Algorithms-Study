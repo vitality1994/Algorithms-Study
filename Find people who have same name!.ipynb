{
 "cells": [
  {
   "cell_type": "markdown",
   "metadata": {},
   "source": [
    "Set function: set()\n",
    "\n",
    "The difference between 'set' & 'list' is...\n",
    "- no same elements in the set\n",
    "- order does not matter\n",
    "\n",
    "functions for 'set'\n",
    "- len(s)    ... parameter is 'set'.\n",
    "- s.add(x)\n",
    "- s.discard(x)\n",
    "- s.clear()\n",
    "- x in s    ... return boolean type (yes or no)"
   ]
  },
  {
   "cell_type": "code",
   "execution_count": 1,
   "metadata": {},
   "outputs": [],
   "source": [
    "# Goal: Find people who have same name!\n",
    "# input is list. output is set.\n",
    "\n",
    "def find_same_name(s): # s is the parameter for list.\n",
    "    result = set()\n",
    "    for i in range(len(s)):\n",
    "        name_1=s[i] \n",
    "        for j in range(i+1, len(s)):\n",
    "            name_2 = s[j]\n",
    "            if name_1 == name_2:\n",
    "                result.add(name_1)\n",
    "    return result"
   ]
  },
  {
   "cell_type": "code",
   "execution_count": 2,
   "metadata": {},
   "outputs": [
    {
     "data": {
      "text/plain": [
       "{'Paul', 'Tom'}"
      ]
     },
     "execution_count": 2,
     "metadata": {},
     "output_type": "execute_result"
    }
   ],
   "source": [
    "# Test\n",
    "s = ['Tom', 'David', 'Jerry', 'Paul', 'Tom', 'Paul']\n",
    "find_same_name(s)"
   ]
  },
  {
   "cell_type": "markdown",
   "metadata": {},
   "source": [
    "Computational complexity for this algorithm is...\n",
    "if n = 4 (if there are four names), \n",
    "number of times for comparing is n-1, n-2, ... 2, 1\n",
    "sum of terms above is 1+2+3+...+(n-2)+(n-1) =\n",
    "\n",
    "$$\\frac{(n-1)(n-1+1)}{2} = \\frac{1}{2}n^2-\\frac{1}{2}n$$\n",
    "\n",
    "So, Big O notation is $O(n^2)$. \n",
    "\n",
    "$O(n^2)$ means that if input n increased, computation time increased dramatically."
   ]
  }
 ],
 "metadata": {
  "jupytext": {
   "formats": "ipynb,auto:light"
  },
  "kernelspec": {
   "display_name": "Python 3",
   "language": "python",
   "name": "python3"
  },
  "language_info": {
   "codemirror_mode": {
    "name": "ipython",
    "version": 3
   },
   "file_extension": ".py",
   "mimetype": "text/x-python",
   "name": "python",
   "nbconvert_exporter": "python",
   "pygments_lexer": "ipython3",
   "version": "3.7.4"
  }
 },
 "nbformat": 4,
 "nbformat_minor": 2
}
