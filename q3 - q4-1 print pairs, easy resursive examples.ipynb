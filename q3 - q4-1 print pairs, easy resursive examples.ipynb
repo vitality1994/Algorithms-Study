{
 "cells": [
  {
   "cell_type": "markdown",
   "metadata": {},
   "source": [
    "q3-1:\n",
    "\n",
    "If two people will be picked out on 'n' people, make algorithm that will show all of pairs of two people."
   ]
  },
  {
   "cell_type": "code",
   "execution_count": 6,
   "metadata": {},
   "outputs": [],
   "source": [
    "def pairs(s):\n",
    "    for i in range(len(s)):\n",
    "        for j in range(i+1, len(s)):\n",
    "            print(s[i], s[j])"
   ]
  },
  {
   "cell_type": "code",
   "execution_count": 8,
   "metadata": {},
   "outputs": [
    {
     "name": "stdout",
     "output_type": "stream",
     "text": [
      "Tom Jerry\n",
      "Tom Mike\n",
      "Jerry Mike\n"
     ]
    }
   ],
   "source": [
    "list = [\"Tom\", \"Jerry\", \"Mike\"]\n",
    "\n",
    "pairs(list)"
   ]
  },
  {
   "cell_type": "markdown",
   "metadata": {},
   "source": [
    "q4: Factorials with Recursive Algorithm\n",
    "\n",
    "1! = 1\n",
    "\n",
    "2! = 2*1\n",
    "\n",
    "3! = 3*(2*1)   \n",
    "\n",
    "4! = 4*(3!)\n",
    "...\n",
    "\n",
    "n! = n*(n-1)!"
   ]
  },
  {
   "cell_type": "code",
   "execution_count": 50,
   "metadata": {},
   "outputs": [],
   "source": [
    "def factorial(s):\n",
    "    if s == 1:\n",
    "        return s\n",
    "    else:\n",
    "        s = s*factorial(s-1)\n",
    "        return s"
   ]
  },
  {
   "cell_type": "code",
   "execution_count": 53,
   "metadata": {},
   "outputs": [
    {
     "data": {
      "text/plain": [
       "120"
      ]
     },
     "execution_count": 53,
     "metadata": {},
     "output_type": "execute_result"
    }
   ],
   "source": [
    "factorial(5)"
   ]
  },
  {
   "cell_type": "markdown",
   "metadata": {},
   "source": [
    "computation complexity is O(n) for the algorithm above. Because...<br><br>\n",
    "If fact(4) is implemented, <br>\n",
    "fact(1) = 1 <br>\n",
    "fact(2) = 2x1 = 2 <br>\n",
    "fact(3) = 3x2 = 6 <br>\n",
    "fact(4) = 4x6 = 24 <br>\n",
    "total number of multiplication is '3'."
   ]
  },
  {
   "cell_type": "code",
   "execution_count": 59,
   "metadata": {},
   "outputs": [
    {
     "data": {
      "text/plain": [
       "55"
      ]
     },
     "execution_count": 59,
     "metadata": {},
     "output_type": "execute_result"
    }
   ],
   "source": [
    "# q 4-1: calculate sum from 1 ~ n using recursion.\n",
    "\n",
    "def sum_to_end(n):\n",
    "    if n == 1:\n",
    "        return 1\n",
    "    else:\n",
    "        n = n + sum_to_end(n-1)\n",
    "    \n",
    "    return n\n",
    "\n",
    "sum_to_end(10)"
   ]
  }
 ],
 "metadata": {
  "jupytext": {
   "formats": "ipynb,auto:light"
  },
  "kernelspec": {
   "display_name": "Python 3",
   "language": "python",
   "name": "python3"
  },
  "language_info": {
   "codemirror_mode": {
    "name": "ipython",
    "version": 3
   },
   "file_extension": ".py",
   "mimetype": "text/x-python",
   "name": "python",
   "nbconvert_exporter": "python",
   "pygments_lexer": "ipython3",
   "version": "3.7.4"
  }
 },
 "nbformat": 4,
 "nbformat_minor": 2
}
